{
 "cells": [
  {
   "cell_type": "code",
   "execution_count": 1,
   "metadata": {
    "ExecuteTime": {
     "end_time": "2020-06-28T09:05:06.270555Z",
     "start_time": "2020-06-28T09:05:06.115463Z"
    }
   },
   "outputs": [],
   "source": [
    "import os\n",
    "import glob\n",
    "import shutil\n",
    "import numpy as np"
   ]
  },
  {
   "cell_type": "code",
   "execution_count": 2,
   "metadata": {
    "ExecuteTime": {
     "end_time": "2020-06-28T09:05:06.410021Z",
     "start_time": "2020-06-28T09:05:06.377256Z"
    }
   },
   "outputs": [
    {
     "name": "stdout",
     "output_type": "stream",
     "text": [
      "['datasets/paris/pantheon', 'datasets/paris/louvre', 'datasets/paris/defense', 'datasets/paris/notredame', 'datasets/paris/pompidou', 'datasets/paris/triomphe', 'datasets/paris/moulinrouge', 'datasets/paris/sacrecoeur', 'datasets/paris/invalides']\n"
     ]
    }
   ],
   "source": [
    "data_path = \"datasets/paris\"\n",
    "objects = [x[0] for x in os.walk(data_path)][1:-1]\n",
    "print(objects)"
   ]
  },
  {
   "cell_type": "code",
   "execution_count": 22,
   "metadata": {
    "ExecuteTime": {
     "end_time": "2020-06-27T13:22:48.745331Z",
     "start_time": "2020-06-27T13:22:48.551172Z"
    }
   },
   "outputs": [],
   "source": [
    "for i in range(len(objects)):\n",
    "    for file in glob.glob(objects[i] + \"/*.txt\"):\n",
    "        with open(file,'r') as f:\n",
    "            output = f.read()\n",
    "            # if file is empty, remove the text file \n",
    "            if len(output) == 0:\n",
    "                shutil.move(file, \"datasets/paris_old\")"
   ]
  },
  {
   "cell_type": "code",
   "execution_count": 39,
   "metadata": {
    "ExecuteTime": {
     "end_time": "2020-06-27T13:58:25.844485Z",
     "start_time": "2020-06-27T13:58:25.784549Z"
    }
   },
   "outputs": [],
   "source": [
    "# now move the associated images\n",
    "useless_txt_files = glob.glob(\"datasets/paris_old/*.txt\")\n",
    "for i in range(len(useless_txt_files)):\n",
    "    curr_file = useless_txt_files[i]\n",
    "    txt_file_name = curr_file.split(\"/\")[-1]\n",
    "    \n",
    "    tfn_split = txt_file_name.split(\"_\")\n",
    "    \n",
    "    object_label = tfn_split[1]\n",
    "    image_number = tfn_split[2].split(\".\")[0]\n",
    "    \n",
    "    image_file_path = (\"datasets/paris/\" + object_label + \"/paris_\" +\n",
    "                       object_label + \"_\" + image_number + \".jpg\")\n",
    "    shutil.move(image_file_path, \"datasets/paris_old\")"
   ]
  },
  {
   "cell_type": "code",
   "execution_count": 7,
   "metadata": {
    "ExecuteTime": {
     "end_time": "2020-06-28T07:59:21.545374Z",
     "start_time": "2020-06-28T07:59:21.509665Z"
    }
   },
   "outputs": [],
   "source": [
    "# creating lists of the train and validation files\n",
    "file_train = \"datasets/paris_train.txt\"\n",
    "file_test = \"datasets/paris_test.txt\"\n",
    "\n",
    "ftrain = open(file_train, \"a\")\n",
    "ftest = open(file_test, \"a\")\n",
    "\n",
    "dir_files = []\n",
    "for i in range(len(objects)):\n",
    "    curr_object = objects[i]\n",
    "    text_files = glob.glob(curr_object + \"/*.txt\")\n",
    "    \n",
    "    # split list of text files into 80% train and 20% validation\n",
    "    train, validate = np.split(text_files, [int(len(text_files)*0.8)])\n",
    "    #print(len(train), len(validate), len(text_files), len(text_files)*0.2)\n",
    "    for j in range(len(train)):\n",
    "        train_file_name = train[j].split(\".\")[0]+\".jpg\"\n",
    "#         print(train_file_name)\n",
    "        ftrain.write(train_file_name+\"\\n\")\n",
    "    for j in range(len(validate)):\n",
    "        test_file_name = validate[j].split(\".\")[0]+\".jpg\"\n",
    "        ftest.write(test_file_name+\"\\n\")"
   ]
  },
  {
   "cell_type": "code",
   "execution_count": null,
   "metadata": {},
   "outputs": [],
   "source": []
  }
 ],
 "metadata": {
  "kernelspec": {
   "display_name": "Python 3",
   "language": "python",
   "name": "python3"
  },
  "language_info": {
   "codemirror_mode": {
    "name": "ipython",
    "version": 3
   },
   "file_extension": ".py",
   "mimetype": "text/x-python",
   "name": "python",
   "nbconvert_exporter": "python",
   "pygments_lexer": "ipython3",
   "version": "3.8.2"
  },
  "toc": {
   "base_numbering": 1,
   "nav_menu": {},
   "number_sections": true,
   "sideBar": true,
   "skip_h1_title": false,
   "title_cell": "Table of Contents",
   "title_sidebar": "Contents",
   "toc_cell": false,
   "toc_position": {},
   "toc_section_display": true,
   "toc_window_display": false
  }
 },
 "nbformat": 4,
 "nbformat_minor": 4
}
